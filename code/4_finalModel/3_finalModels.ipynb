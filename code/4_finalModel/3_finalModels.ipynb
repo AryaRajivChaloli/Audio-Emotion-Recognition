{
 "cells": [
  {
   "cell_type": "code",
   "execution_count": 2,
   "metadata": {},
   "outputs": [],
   "source": [
    "import numpy as np\n",
    "import pandas as pd\n",
    "from sklearn.model_selection import train_test_split\n",
    "from sklearn.tree import DecisionTreeClassifier\n",
    "from sklearn.metrics import classification_report,confusion_matrix\n",
    "from sklearn import metrics\n",
    "from sklearn.model_selection import cross_val_score\n",
    "from sklearn import preprocessing\n",
    "from sklearn.ensemble import RandomForestClassifier\n",
    "from sklearn.ensemble import ExtraTreesClassifier\n",
    "from sklearn.ensemble import AdaBoostClassifier\n",
    "from sklearn.ensemble import GradientBoostingClassifier\n",
    "from sklearn.ensemble import BaggingClassifier"
   ]
  },
  {
   "cell_type": "code",
   "execution_count": 3,
   "metadata": {},
   "outputs": [],
   "source": [
    "df = pd.read_csv('C:/Users/grees/OneDrive/Documents/Computer Science/Data Analytics/Audio-Emotion-Recognition/extractedData/details.csv')"
   ]
  },
  {
   "cell_type": "code",
   "execution_count": 4,
   "metadata": {},
   "outputs": [
    {
     "data": {
      "text/plain": [
       "((1440, 14), (1440,))"
      ]
     },
     "execution_count": 4,
     "metadata": {},
     "output_type": "execute_result"
    }
   ],
   "source": [
    "X = df[list(df.columns)[3:]] #to get the relevant columnns (tonnetz, MFCC, chroma etc.)\n",
    "X = preprocessing.normalize(X) #to normalize the data\n",
    "y = df['emotion']\n",
    "X = np.asarray(X)\n",
    "y = np.asarray(y)\n",
    "#X.shape, y.shape"
   ]
  },
  {
   "cell_type": "code",
   "execution_count": 6,
   "metadata": {},
   "outputs": [],
   "source": [
    "X_train, X_test, y_train, y_test = train_test_split(X, y, test_size=0.25, random_state=42)\n",
    "#to split data into training and testing => 75:25 ratio"
   ]
  },
  {
   "cell_type": "code",
   "execution_count": 7,
   "metadata": {},
   "outputs": [
    {
     "name": "stdout",
     "output_type": "stream",
     "text": [
      "              precision    recall  f1-score   support\n",
      "\n",
      "         1.0       0.27      0.18      0.22        22\n",
      "         2.0       0.55      0.55      0.55        56\n",
      "         3.0       0.25      0.31      0.28        42\n",
      "         4.0       0.28      0.30      0.29        50\n",
      "         5.0       0.40      0.50      0.45        50\n",
      "         6.0       0.42      0.51      0.46        39\n",
      "         7.0       0.39      0.30      0.34        46\n",
      "         8.0       0.32      0.22      0.26        55\n",
      "\n",
      "   micro avg       0.37      0.37      0.37       360\n",
      "   macro avg       0.36      0.36      0.36       360\n",
      "weighted avg       0.37      0.37      0.37       360\n",
      "\n",
      "Confusion matrix for decision trees:\n",
      "[[ 4  6  1  6  0  1  3  1]\n",
      " [ 5 31  5 11  2  0  0  2]\n",
      " [ 0  1 13  4 12  1  5  6]\n",
      " [ 3 12  7 15  3  4  4  2]\n",
      " [ 1  0  6  4 25  6  3  5]\n",
      " [ 0  2  8  3  1 20  1  4]\n",
      " [ 0  1  6  3  8  8 14  6]\n",
      " [ 2  3  6  7 11  8  6 12]]\n",
      "Accuracy: 0.28 (+/- 0.05)\n"
     ]
    }
   ],
   "source": [
    "#decision tree classifier\n",
    "dtree = DecisionTreeClassifier()\n",
    "dtree.fit(X_train, y_train)\n",
    "predictions = dtree.predict(X_test)\n",
    "accuracy=metrics.accuracy_score(y_test, predictions)\n",
    "print(classification_report(y_test,predictions))\n",
    "print(\"Confusion matrix for decision trees:\")\n",
    "print(confusion_matrix(y_test,predictions))\n",
    "scores1 = cross_val_score(dtree, X, y, cv=10)\n",
    "print(\"Accuracy: %0.2f (+/- %0.2f)\" % (scores1.mean(), scores1.std()))"
   ]
  },
  {
   "cell_type": "code",
   "execution_count": 8,
   "metadata": {},
   "outputs": [
    {
     "name": "stdout",
     "output_type": "stream",
     "text": [
      "              precision    recall  f1-score   support\n",
      "\n",
      "         1.0       0.22      0.27      0.24        22\n",
      "         2.0       0.48      0.54      0.51        56\n",
      "         3.0       0.27      0.40      0.32        42\n",
      "         4.0       0.36      0.36      0.36        50\n",
      "         5.0       0.52      0.56      0.54        50\n",
      "         6.0       0.47      0.44      0.45        39\n",
      "         7.0       0.26      0.20      0.22        46\n",
      "         8.0       0.44      0.25      0.32        55\n",
      "\n",
      "   micro avg       0.39      0.39      0.39       360\n",
      "   macro avg       0.38      0.38      0.37       360\n",
      "weighted avg       0.39      0.39      0.38       360\n",
      "\n",
      "Confusion matrix for random forest:\n",
      "[[ 6  6  3  4  0  0  1  2]\n",
      " [ 7 30  2 12  1  0  3  1]\n",
      " [ 1  3 17  1  9  3  7  1]\n",
      " [ 3 11  9 18  0  1  2  6]\n",
      " [ 0  1  7  2 28  6  4  2]\n",
      " [ 1  2  9  2  3 17  3  2]\n",
      " [ 4  8  8  5  5  3  9  4]\n",
      " [ 5  1  9  6  8  6  6 14]]\n",
      "Accuracy: 0.30 (+/- 0.02)\n"
     ]
    }
   ],
   "source": [
    "#random forest classifier\n",
    "rfor = RandomForestClassifier(n_estimators=10, randome_state = 45)\n",
    "rfor = rfor.fit(X_train, y_train)\n",
    "predictions2 = rfor.predict(X_test)\n",
    "print(classification_report(y_test,predictions2))\n",
    "accuracy=metrics.accuracy_score(y_test, predictions2)\n",
    "print(\"Confusion matrix for random forest:\")\n",
    "print(confusion_matrix(y_test,predictions2))\n",
    "scores2 = cross_val_score(rfor, X, y, cv=5)      \n",
    "print(\"Accuracy: %0.2f (+/- %0.2f)\" % (scores2.mean(), scores2.std()))"
   ]
  },
  {
   "cell_type": "code",
   "execution_count": 9,
   "metadata": {},
   "outputs": [
    {
     "name": "stdout",
     "output_type": "stream",
     "text": [
      "\n",
      "Accuracy for Extra Trees: 0.29 (+/- 0.02)\n"
     ]
    }
   ],
   "source": [
    "#Extra trees classifier\n",
    "clf = ExtraTreesClassifier(n_estimators=10, max_depth=None,min_samples_split=2, random_state=45)\n",
    "scores3 = cross_val_score(clf, X, y, cv=10)\n",
    "print(\"\\nAccuracy for Extra Trees: %0.2f (+/- %0.2f)\" % (scores3.mean(), scores3.std()))"
   ]
  },
  {
   "cell_type": "code",
   "execution_count": 10,
   "metadata": {},
   "outputs": [
    {
     "name": "stdout",
     "output_type": "stream",
     "text": [
      "\n",
      "Accuracy for AdaBoost: 0.27 (+/- 0.03)\n"
     ]
    }
   ],
   "source": [
    "#AdaBoost Classifier\n",
    "clf = AdaBoostClassifier(n_estimators=20)\n",
    "scores4 = cross_val_score(clf, X, y, cv=10)\n",
    "print(\"\\nAccuracy for AdaBoost: %0.2f (+/- %0.2f)\" % (scores4.mean(), scores4.std()))"
   ]
  },
  {
   "cell_type": "code",
   "execution_count": 11,
   "metadata": {},
   "outputs": [
    {
     "name": "stdout",
     "output_type": "stream",
     "text": [
      "              precision    recall  f1-score   support\n",
      "\n",
      "         1.0       0.00      0.00      0.00        22\n",
      "         2.0       0.47      0.82      0.60        56\n",
      "         3.0       0.26      0.36      0.30        42\n",
      "         4.0       0.50      0.28      0.36        50\n",
      "         5.0       0.62      0.48      0.54        50\n",
      "         6.0       0.46      0.33      0.39        39\n",
      "         7.0       0.36      0.46      0.40        46\n",
      "         8.0       0.37      0.29      0.33        55\n",
      "\n",
      "   micro avg       0.41      0.41      0.41       360\n",
      "   macro avg       0.38      0.38      0.36       360\n",
      "weighted avg       0.41      0.41      0.40       360\n",
      "\n",
      "Confusion matrix for gradient boosting:\n",
      "[[ 0 18  1  0  0  0  2  1]\n",
      " [ 3 46  2  3  0  0  2  0]\n",
      " [ 1  2 15  2  7  2  8  5]\n",
      " [ 0 20  3 14  0  1  6  6]\n",
      " [ 0  1  9  0 24  3  5  8]\n",
      " [ 0  2  7  4  7 13  4  2]\n",
      " [ 1  5  8  3  1  2 21  5]\n",
      " [ 4  4 12  2  0  7 10 16]]\n",
      "Accuracy: 0.32 (+/- 0.03)\n"
     ]
    }
   ],
   "source": [
    "#Gradient boosting classifier\n",
    "gb_clf = GradientBoostingClassifier(n_estimators=20, learning_rate=0.05, max_features=2, max_depth=2, random_state=0)\n",
    "gb = gb_clf.fit(X_train, y_train)\n",
    "predictions3 = gb.predict(X_test)\n",
    "print(classification_report(y_test,predictions3))\n",
    "accuracy=metrics.accuracy_score(y_test, predictions3)\n",
    "print(\"Confusion matrix for gradient boosting:\")\n",
    "print(confusion_matrix(y_test,predictions3))\n",
    "scores5 = cross_val_score(gb_clf, X, y, cv=10)\n",
    "print(\"Accuracy: %0.2f (+/- %0.2f)\" % (scores5.mean(), scores5.std()))"
   ]
  },
  {
   "cell_type": "code",
   "execution_count": 12,
   "metadata": {},
   "outputs": [
    {
     "name": "stdout",
     "output_type": "stream",
     "text": [
      "\n",
      "Accuracy after bagging with Decision Trees: 0.31 (+/- 0.04)\n"
     ]
    }
   ],
   "source": [
    "\n",
    "#Bagging using Decision Trees\n",
    "bagging = BaggingClassifier(DecisionTreeClassifier(), max_samples=0.3, max_features=0.7) #more dependent on features than samples\n",
    "scores6 = cross_val_score(bagging, X, y, cv=10)\n",
    "print(\"\\nAccuracy after bagging with Decision Trees: %0.2f (+/- %0.2f)\" % (scores6.mean(), scores6.std()))"
   ]
  },
  {
   "cell_type": "code",
   "execution_count": null,
   "metadata": {},
   "outputs": [],
   "source": []
  }
 ],
 "metadata": {
  "kernelspec": {
   "display_name": "Python 3",
   "language": "python",
   "name": "python3"
  },
  "language_info": {
   "codemirror_mode": {
    "name": "ipython",
    "version": 3
   },
   "file_extension": ".py",
   "mimetype": "text/x-python",
   "name": "python",
   "nbconvert_exporter": "python",
   "pygments_lexer": "ipython3",
   "version": "3.7.3"
  }
 },
 "nbformat": 4,
 "nbformat_minor": 2
}
