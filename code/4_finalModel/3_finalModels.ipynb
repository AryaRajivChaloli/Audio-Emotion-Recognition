{
 "cells": [
  {
   "cell_type": "code",
   "execution_count": 1,
   "metadata": {},
   "outputs": [],
   "source": [
    "import numpy as np\n",
    "import pandas as pd\n",
    "from sklearn.model_selection import train_test_split\n",
    "from sklearn.tree import DecisionTreeClassifier\n",
    "from sklearn.metrics import classification_report,confusion_matrix\n",
    "from sklearn import metrics\n",
    "from sklearn.model_selection import cross_val_score\n",
    "from sklearn import preprocessing\n",
    "from sklearn.ensemble import RandomForestClassifier\n",
    "from sklearn.ensemble import ExtraTreesClassifier\n",
    "from sklearn.ensemble import AdaBoostClassifier\n",
    "from sklearn.ensemble import GradientBoostingClassifier\n",
    "from sklearn.ensemble import BaggingClassifier\n",
    "from xgboost import XGBClassifier"
   ]
  },
  {
   "cell_type": "code",
   "execution_count": 2,
   "metadata": {},
   "outputs": [],
   "source": [
    "df = pd.read_csv('C:/Users/grees/OneDrive/Documents/Computer Science/Data Analytics/Audio-Emotion-Recognition/extractedData/details.csv')"
   ]
  },
  {
   "cell_type": "code",
   "execution_count": 3,
   "metadata": {},
   "outputs": [],
   "source": [
    "X = df[list(df.columns)[3:]] #to get the relevant columnns (tonnetz, MFCC, chroma etc.)\n",
    "X = preprocessing.normalize(X) #to normalize the data\n",
    "y = df['emotion']\n",
    "X = np.asarray(X)\n",
    "y = np.asarray(y)\n",
    "#X.shape, y.shape"
   ]
  },
  {
   "cell_type": "code",
   "execution_count": 4,
   "metadata": {},
   "outputs": [],
   "source": [
    "X_train, X_test, y_train, y_test = train_test_split(X, y, test_size=0.25, random_state=42)\n",
    "#to split data into training and testing => 75:25 ratio"
   ]
  },
  {
   "cell_type": "code",
   "execution_count": 5,
   "metadata": {},
   "outputs": [
    {
     "name": "stdout",
     "output_type": "stream",
     "text": [
      "              precision    recall  f1-score   support\n",
      "\n",
      "         1.0       0.24      0.18      0.21        22\n",
      "         2.0       0.57      0.46      0.51        56\n",
      "         3.0       0.23      0.26      0.25        42\n",
      "         4.0       0.35      0.36      0.35        50\n",
      "         5.0       0.34      0.48      0.40        50\n",
      "         6.0       0.32      0.41      0.36        39\n",
      "         7.0       0.29      0.26      0.27        46\n",
      "         8.0       0.37      0.24      0.29        55\n",
      "\n",
      "   micro avg       0.34      0.34      0.34       360\n",
      "   macro avg       0.34      0.33      0.33       360\n",
      "weighted avg       0.35      0.34      0.34       360\n",
      "\n",
      "Confusion matrix for decision trees:\n",
      "[[ 4  4  1  5  1  3  2  2]\n",
      " [ 6 26  4 12  2  2  1  3]\n",
      " [ 0  0 11  3 13  2  7  6]\n",
      " [ 3 11  5 18  3  4  5  1]\n",
      " [ 1  0  5  5 24  7  6  2]\n",
      " [ 0  2 10  2  6 16  2  1]\n",
      " [ 0  3  5  3  8  8 12  7]\n",
      " [ 3  0  6  4 14  8  7 13]]\n",
      "Accuracy: 0.27 (+/- 0.05)\n"
     ]
    }
   ],
   "source": [
    "#decision tree classifier\n",
    "dtree = DecisionTreeClassifier()\n",
    "dtree.fit(X_train, y_train)\n",
    "predictions = dtree.predict(X_test)\n",
    "accuracy=metrics.accuracy_score(y_test, predictions)\n",
    "print(classification_report(y_test,predictions))\n",
    "print(\"Confusion matrix for decision trees:\")\n",
    "print(confusion_matrix(y_test,predictions))\n",
    "scores1 = cross_val_score(dtree, X, y, cv=10)\n",
    "print(\"Accuracy: %0.2f (+/- %0.2f)\" % (scores1.mean(), scores1.std()))"
   ]
  },
  {
   "cell_type": "code",
   "execution_count": 6,
   "metadata": {},
   "outputs": [
    {
     "name": "stdout",
     "output_type": "stream",
     "text": [
      "              precision    recall  f1-score   support\n",
      "\n",
      "         1.0       0.27      0.32      0.29        22\n",
      "         2.0       0.53      0.73      0.62        56\n",
      "         3.0       0.27      0.43      0.33        42\n",
      "         4.0       0.31      0.26      0.28        50\n",
      "         5.0       0.58      0.50      0.54        50\n",
      "         6.0       0.57      0.51      0.54        39\n",
      "         7.0       0.29      0.22      0.25        46\n",
      "         8.0       0.50      0.33      0.40        55\n",
      "\n",
      "   micro avg       0.42      0.42      0.42       360\n",
      "   macro avg       0.42      0.41      0.41       360\n",
      "weighted avg       0.43      0.42      0.42       360\n",
      "\n",
      "Confusion matrix for random forest:\n",
      "[[ 7  9  2  2  0  0  2  0]\n",
      " [ 3 41  0  9  0  0  3  0]\n",
      " [ 2  2 18  2  4  8  3  3]\n",
      " [ 4 17  6 13  2  1  3  4]\n",
      " [ 1  0 10  2 25  1  6  5]\n",
      " [ 2  0  7  3  4 20  1  2]\n",
      " [ 4  4 13  6  3  2 10  4]\n",
      " [ 3  4 11  5  5  3  6 18]]\n",
      "Accuracy: 0.31 (+/- 0.02)\n"
     ]
    }
   ],
   "source": [
    "#random forest classifier\n",
    "rfor = RandomForestClassifier(n_estimators=10, random_state = 45)\n",
    "rfor = rfor.fit(X_train, y_train)\n",
    "predictions2 = rfor.predict(X_test)\n",
    "print(classification_report(y_test,predictions2))\n",
    "accuracy=metrics.accuracy_score(y_test, predictions2)\n",
    "print(\"Confusion matrix for random forest:\")\n",
    "print(confusion_matrix(y_test,predictions2))\n",
    "scores2 = cross_val_score(rfor, X, y, cv=5)      \n",
    "print(\"Accuracy: %0.2f (+/- %0.2f)\" % (scores2.mean(), scores2.std()))"
   ]
  },
  {
   "cell_type": "code",
   "execution_count": 7,
   "metadata": {},
   "outputs": [
    {
     "name": "stdout",
     "output_type": "stream",
     "text": [
      "              precision    recall  f1-score   support\n",
      "\n",
      "         1.0       0.35      0.50      0.42        22\n",
      "         2.0       0.48      0.59      0.53        56\n",
      "         3.0       0.18      0.24      0.20        42\n",
      "         4.0       0.28      0.22      0.24        50\n",
      "         5.0       0.47      0.52      0.50        50\n",
      "         6.0       0.36      0.41      0.39        39\n",
      "         7.0       0.35      0.24      0.29        46\n",
      "         8.0       0.33      0.20      0.25        55\n",
      "\n",
      "   micro avg       0.36      0.36      0.36       360\n",
      "   macro avg       0.35      0.36      0.35       360\n",
      "weighted avg       0.36      0.36      0.35       360\n",
      "\n",
      "Confusion matrix for Extra Trees Classifier:\n",
      "[[ 7  9  2  2  0  0  2  0]\n",
      " [ 3 41  0  9  0  0  3  0]\n",
      " [ 2  2 18  2  4  8  3  3]\n",
      " [ 4 17  6 13  2  1  3  4]\n",
      " [ 1  0 10  2 25  1  6  5]\n",
      " [ 2  0  7  3  4 20  1  2]\n",
      " [ 4  4 13  6  3  2 10  4]\n",
      " [ 3  4 11  5  5  3  6 18]]\n",
      "\n",
      "Accuracy for Extra Trees: 0.31 (+/- 0.02)\n"
     ]
    }
   ],
   "source": [
    "#Extra trees classifier\n",
    "clf = ExtraTreesClassifier(n_estimators=10, max_depth=None,min_samples_split=2, random_state=45)\n",
    "clf.fit(X_train, y_train)\n",
    "predictions6 = clf.predict(X_test)\n",
    "accuracy=metrics.accuracy_score(y_test, predictions6)\n",
    "print(classification_report(y_test,predictions6))\n",
    "print(\"Confusion matrix for Extra Trees Classifier:\")\n",
    "print(confusion_matrix(y_test,predictions2))\n",
    "scores3 = cross_val_score(clf, X, y, cv=10)\n",
    "print(\"\\nAccuracy for Extra Trees: %0.2f (+/- %0.2f)\" % (scores3.mean(), scores3.std()))"
   ]
  },
  {
   "cell_type": "code",
   "execution_count": 8,
   "metadata": {},
   "outputs": [
    {
     "name": "stdout",
     "output_type": "stream",
     "text": [
      "              precision    recall  f1-score   support\n",
      "\n",
      "         1.0       0.00      0.00      0.00        22\n",
      "         2.0       0.46      0.62      0.53        56\n",
      "         3.0       0.08      0.07      0.08        42\n",
      "         4.0       0.27      0.20      0.23        50\n",
      "         5.0       0.32      0.74      0.45        50\n",
      "         6.0       0.08      0.05      0.06        39\n",
      "         7.0       0.30      0.39      0.34        46\n",
      "         8.0       0.67      0.07      0.13        55\n",
      "\n",
      "   micro avg       0.30      0.30      0.30       360\n",
      "   macro avg       0.27      0.27      0.23       360\n",
      "weighted avg       0.31      0.30      0.26       360\n",
      "\n",
      "Confusion matrix for AdaBoost Classifier:\n",
      "[[ 7  9  2  2  0  0  2  0]\n",
      " [ 3 41  0  9  0  0  3  0]\n",
      " [ 2  2 18  2  4  8  3  3]\n",
      " [ 4 17  6 13  2  1  3  4]\n",
      " [ 1  0 10  2 25  1  6  5]\n",
      " [ 2  0  7  3  4 20  1  2]\n",
      " [ 4  4 13  6  3  2 10  4]\n",
      " [ 3  4 11  5  5  3  6 18]]\n",
      "\n",
      "Accuracy for AdaBoost: 0.27 (+/- 0.03)\n"
     ]
    }
   ],
   "source": [
    "#AdaBoost Classifier\n",
    "clf = AdaBoostClassifier(n_estimators=20)\n",
    "clf.fit(X_train, y_train)\n",
    "predictions7 = clf.predict(X_test)\n",
    "accuracy=metrics.accuracy_score(y_test, predictions7)\n",
    "print(classification_report(y_test,predictions7))\n",
    "print(\"Confusion matrix for AdaBoost Classifier:\")\n",
    "print(confusion_matrix(y_test,predictions2))\n",
    "scores4 = cross_val_score(clf, X, y, cv=10)\n",
    "print(\"\\nAccuracy for AdaBoost: %0.2f (+/- %0.2f)\" % (scores4.mean(), scores4.std()))"
   ]
  },
  {
   "cell_type": "code",
   "execution_count": 9,
   "metadata": {},
   "outputs": [
    {
     "name": "stdout",
     "output_type": "stream",
     "text": [
      "              precision    recall  f1-score   support\n",
      "\n",
      "         1.0       0.00      0.00      0.00        22\n",
      "         2.0       0.47      0.82      0.60        56\n",
      "         3.0       0.26      0.36      0.30        42\n",
      "         4.0       0.50      0.28      0.36        50\n",
      "         5.0       0.62      0.48      0.54        50\n",
      "         6.0       0.46      0.33      0.39        39\n",
      "         7.0       0.36      0.46      0.40        46\n",
      "         8.0       0.37      0.29      0.33        55\n",
      "\n",
      "   micro avg       0.41      0.41      0.41       360\n",
      "   macro avg       0.38      0.38      0.36       360\n",
      "weighted avg       0.41      0.41      0.40       360\n",
      "\n",
      "Confusion matrix for gradient boosting:\n",
      "[[ 0 18  1  0  0  0  2  1]\n",
      " [ 3 46  2  3  0  0  2  0]\n",
      " [ 1  2 15  2  7  2  8  5]\n",
      " [ 0 20  3 14  0  1  6  6]\n",
      " [ 0  1  9  0 24  3  5  8]\n",
      " [ 0  2  7  4  7 13  4  2]\n",
      " [ 1  5  8  3  1  2 21  5]\n",
      " [ 4  4 12  2  0  7 10 16]]\n",
      "Accuracy: 0.32 (+/- 0.03)\n"
     ]
    }
   ],
   "source": [
    "#Gradient boosting classifier\n",
    "gb_clf = GradientBoostingClassifier(n_estimators=20, learning_rate=0.05, max_features=2, max_depth=2, random_state=0)\n",
    "gb = gb_clf.fit(X_train, y_train)\n",
    "predictions3 = gb.predict(X_test)\n",
    "print(classification_report(y_test,predictions3))\n",
    "accuracy=metrics.accuracy_score(y_test, predictions3)\n",
    "print(\"Confusion matrix for gradient boosting:\")\n",
    "print(confusion_matrix(y_test,predictions3))\n",
    "scores5 = cross_val_score(gb_clf, X, y, cv=10)\n",
    "print(\"Accuracy: %0.2f (+/- %0.2f)\" % (scores5.mean(), scores5.std()))"
   ]
  },
  {
   "cell_type": "code",
   "execution_count": 10,
   "metadata": {},
   "outputs": [
    {
     "name": "stdout",
     "output_type": "stream",
     "text": [
      "              precision    recall  f1-score   support\n",
      "\n",
      "         1.0       0.20      0.23      0.21        22\n",
      "         2.0       0.49      0.66      0.56        56\n",
      "         3.0       0.30      0.31      0.30        42\n",
      "         4.0       0.33      0.26      0.29        50\n",
      "         5.0       0.47      0.56      0.51        50\n",
      "         6.0       0.37      0.41      0.39        39\n",
      "         7.0       0.28      0.28      0.28        46\n",
      "         8.0       0.38      0.20      0.26        55\n",
      "\n",
      "   micro avg       0.38      0.38      0.38       360\n",
      "   macro avg       0.35      0.36      0.35       360\n",
      "weighted avg       0.37      0.38      0.37       360\n",
      "\n",
      "Confusion matrix for bagging with Decision Trees:\n",
      "[[ 5 10  1  3  1  0  2  0]\n",
      " [ 6 37  0  9  0  2  2  0]\n",
      " [ 2  1 13  0  9  7  6  4]\n",
      " [ 1 18  4 13  3  3  5  3]\n",
      " [ 0  1  9  2 28  5  2  3]\n",
      " [ 1  1  7  5  4 16  2  3]\n",
      " [ 5  4  6  4  5  4 13  5]\n",
      " [ 5  3  4  3  9  6 14 11]]\n",
      "\n",
      "Accuracy after bagging with Decision Trees: 0.29 (+/- 0.03)\n"
     ]
    }
   ],
   "source": [
    "#Bagging using Decision Trees\n",
    "bagging = BaggingClassifier(DecisionTreeClassifier(), max_samples=0.3, max_features=0.7) #more dependent on features than samples\n",
    "bagging.fit(X_train, y_train)\n",
    "predictions3 = bagging.predict(X_test)\n",
    "accuracy=metrics.accuracy_score(y_test, predictions3)\n",
    "print(classification_report(y_test,predictions3))\n",
    "print(\"Confusion matrix for bagging with Decision Trees:\")\n",
    "print(confusion_matrix(y_test,predictions3))\n",
    "scores6 = cross_val_score(bagging, X, y, cv=10)\n",
    "print(\"\\nAccuracy after bagging with Decision Trees: %0.2f (+/- %0.2f)\" % (scores6.mean(), scores6.std()))"
   ]
  },
  {
   "cell_type": "code",
   "execution_count": 11,
   "metadata": {},
   "outputs": [
    {
     "name": "stdout",
     "output_type": "stream",
     "text": [
      "              precision    recall  f1-score   support\n",
      "\n",
      "         1.0       0.33      0.27      0.30        22\n",
      "         2.0       0.49      0.66      0.56        56\n",
      "         3.0       0.27      0.36      0.31        42\n",
      "         4.0       0.40      0.34      0.37        50\n",
      "         5.0       0.54      0.52      0.53        50\n",
      "         6.0       0.59      0.41      0.48        39\n",
      "         7.0       0.32      0.35      0.33        46\n",
      "         8.0       0.47      0.36      0.41        55\n",
      "\n",
      "   micro avg       0.42      0.42      0.42       360\n",
      "   macro avg       0.43      0.41      0.41       360\n",
      "weighted avg       0.43      0.42      0.42       360\n",
      "\n",
      "Confusion matrix for decision trees:\n",
      "[[ 6  9  0  3  0  0  4  0]\n",
      " [ 3 37  1  8  0  0  7  0]\n",
      " [ 1  3 15  4  9  1  5  4]\n",
      " [ 1 16  3 17  0  3  4  6]\n",
      " [ 0  1 11  0 26  2  4  6]\n",
      " [ 1  3  6  4  4 16  2  3]\n",
      " [ 2  6  8  6  3  1 16  4]\n",
      " [ 4  1 11  1  6  4  8 20]]\n",
      "Accuracy: 0.33 (+/- 0.04)\n"
     ]
    }
   ],
   "source": [
    "xg = XGBClassifier()\n",
    "xg.fit(X_train, y_train)\n",
    "predictions4 = xg.predict(X_test)\n",
    "accuracy=metrics.accuracy_score(y_test, predictions4)\n",
    "print(classification_report(y_test,predictions4))\n",
    "print(\"Confusion matrix for decision trees:\")\n",
    "print(confusion_matrix(y_test,predictions4))\n",
    "scores7 = cross_val_score(xg, X, y, cv=10)\n",
    "print(\"Accuracy: %0.2f (+/- %0.2f)\" % (scores7.mean(), scores7.std()))"
   ]
  },
  {
   "cell_type": "code",
   "execution_count": null,
   "metadata": {},
   "outputs": [],
   "source": []
  }
 ],
 "metadata": {
  "kernelspec": {
   "display_name": "Python 3",
   "language": "python",
   "name": "python3"
  },
  "language_info": {
   "codemirror_mode": {
    "name": "ipython",
    "version": 3
   },
   "file_extension": ".py",
   "mimetype": "text/x-python",
   "name": "python",
   "nbconvert_exporter": "python",
   "pygments_lexer": "ipython3",
   "version": "3.7.3"
  }
 },
 "nbformat": 4,
 "nbformat_minor": 2
}
